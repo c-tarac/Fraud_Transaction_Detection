{
 "cells": [
  {
   "cell_type": "markdown",
   "id": "dfdf04af",
   "metadata": {},
   "source": [
    "## Insaid Project On Fraud Transection Classification"
   ]
  },
  {
   "cell_type": "markdown",
   "id": "5f47eba8",
   "metadata": {},
   "source": [
    "**Import some important Libraries**"
   ]
  },
  {
   "cell_type": "code",
   "execution_count": 127,
   "id": "265f7df2",
   "metadata": {},
   "outputs": [],
   "source": [
    "import numpy as np\n",
    "import pandas as pd\n",
    "import matplotlib.pyplot as plt\n",
    "import seaborn as sns\n",
    "%matplotlib inline"
   ]
  },
  {
   "cell_type": "code",
   "execution_count": 128,
   "id": "3cc8a74a",
   "metadata": {},
   "outputs": [],
   "source": [
    "import warnings\n",
    "warnings.filterwarnings('ignore')"
   ]
  },
  {
   "cell_type": "code",
   "execution_count": 129,
   "id": "b5d8a13c",
   "metadata": {},
   "outputs": [],
   "source": [
    "df = pd.read_csv('Fraud.csv')"
   ]
  },
  {
   "cell_type": "code",
   "execution_count": 130,
   "id": "27844ca4",
   "metadata": {},
   "outputs": [
    {
     "data": {
      "text/plain": [
       "step              0\n",
       "type              0\n",
       "amount            0\n",
       "nameOrig          0\n",
       "oldbalanceOrg     0\n",
       "newbalanceOrig    0\n",
       "nameDest          0\n",
       "oldbalanceDest    0\n",
       "newbalanceDest    0\n",
       "isFraud           0\n",
       "isFlaggedFraud    0\n",
       "dtype: int64"
      ]
     },
     "execution_count": 130,
     "metadata": {},
     "output_type": "execute_result"
    }
   ],
   "source": [
    "df.isnull().sum()"
   ]
  },
  {
   "cell_type": "code",
   "execution_count": 131,
   "id": "c3a8c23b",
   "metadata": {},
   "outputs": [
    {
     "name": "stdout",
     "output_type": "stream",
     "text": [
      "<class 'pandas.core.frame.DataFrame'>\n",
      "RangeIndex: 6362620 entries, 0 to 6362619\n",
      "Data columns (total 11 columns):\n",
      " #   Column          Dtype  \n",
      "---  ------          -----  \n",
      " 0   step            int64  \n",
      " 1   type            object \n",
      " 2   amount          float64\n",
      " 3   nameOrig        object \n",
      " 4   oldbalanceOrg   float64\n",
      " 5   newbalanceOrig  float64\n",
      " 6   nameDest        object \n",
      " 7   oldbalanceDest  float64\n",
      " 8   newbalanceDest  float64\n",
      " 9   isFraud         int64  \n",
      " 10  isFlaggedFraud  int64  \n",
      "dtypes: float64(5), int64(3), object(3)\n",
      "memory usage: 534.0+ MB\n"
     ]
    }
   ],
   "source": [
    "df.info()"
   ]
  },
  {
   "cell_type": "code",
   "execution_count": 132,
   "id": "3695fb7d",
   "metadata": {},
   "outputs": [
    {
     "data": {
      "text/html": [
       "<div>\n",
       "<style scoped>\n",
       "    .dataframe tbody tr th:only-of-type {\n",
       "        vertical-align: middle;\n",
       "    }\n",
       "\n",
       "    .dataframe tbody tr th {\n",
       "        vertical-align: top;\n",
       "    }\n",
       "\n",
       "    .dataframe thead th {\n",
       "        text-align: right;\n",
       "    }\n",
       "</style>\n",
       "<table border=\"1\" class=\"dataframe\">\n",
       "  <thead>\n",
       "    <tr style=\"text-align: right;\">\n",
       "      <th></th>\n",
       "      <th>step</th>\n",
       "      <th>amount</th>\n",
       "      <th>oldbalanceOrg</th>\n",
       "      <th>newbalanceOrig</th>\n",
       "      <th>oldbalanceDest</th>\n",
       "      <th>newbalanceDest</th>\n",
       "      <th>isFraud</th>\n",
       "      <th>isFlaggedFraud</th>\n",
       "    </tr>\n",
       "  </thead>\n",
       "  <tbody>\n",
       "    <tr>\n",
       "      <th>count</th>\n",
       "      <td>6.362620e+06</td>\n",
       "      <td>6.362620e+06</td>\n",
       "      <td>6.362620e+06</td>\n",
       "      <td>6.362620e+06</td>\n",
       "      <td>6.362620e+06</td>\n",
       "      <td>6.362620e+06</td>\n",
       "      <td>6.362620e+06</td>\n",
       "      <td>6.362620e+06</td>\n",
       "    </tr>\n",
       "    <tr>\n",
       "      <th>mean</th>\n",
       "      <td>2.433972e+02</td>\n",
       "      <td>1.798619e+05</td>\n",
       "      <td>8.338831e+05</td>\n",
       "      <td>8.551137e+05</td>\n",
       "      <td>1.100702e+06</td>\n",
       "      <td>1.224996e+06</td>\n",
       "      <td>1.290820e-03</td>\n",
       "      <td>2.514687e-06</td>\n",
       "    </tr>\n",
       "    <tr>\n",
       "      <th>std</th>\n",
       "      <td>1.423320e+02</td>\n",
       "      <td>6.038582e+05</td>\n",
       "      <td>2.888243e+06</td>\n",
       "      <td>2.924049e+06</td>\n",
       "      <td>3.399180e+06</td>\n",
       "      <td>3.674129e+06</td>\n",
       "      <td>3.590480e-02</td>\n",
       "      <td>1.585775e-03</td>\n",
       "    </tr>\n",
       "    <tr>\n",
       "      <th>min</th>\n",
       "      <td>1.000000e+00</td>\n",
       "      <td>0.000000e+00</td>\n",
       "      <td>0.000000e+00</td>\n",
       "      <td>0.000000e+00</td>\n",
       "      <td>0.000000e+00</td>\n",
       "      <td>0.000000e+00</td>\n",
       "      <td>0.000000e+00</td>\n",
       "      <td>0.000000e+00</td>\n",
       "    </tr>\n",
       "    <tr>\n",
       "      <th>25%</th>\n",
       "      <td>1.560000e+02</td>\n",
       "      <td>1.338957e+04</td>\n",
       "      <td>0.000000e+00</td>\n",
       "      <td>0.000000e+00</td>\n",
       "      <td>0.000000e+00</td>\n",
       "      <td>0.000000e+00</td>\n",
       "      <td>0.000000e+00</td>\n",
       "      <td>0.000000e+00</td>\n",
       "    </tr>\n",
       "    <tr>\n",
       "      <th>50%</th>\n",
       "      <td>2.390000e+02</td>\n",
       "      <td>7.487194e+04</td>\n",
       "      <td>1.420800e+04</td>\n",
       "      <td>0.000000e+00</td>\n",
       "      <td>1.327057e+05</td>\n",
       "      <td>2.146614e+05</td>\n",
       "      <td>0.000000e+00</td>\n",
       "      <td>0.000000e+00</td>\n",
       "    </tr>\n",
       "    <tr>\n",
       "      <th>75%</th>\n",
       "      <td>3.350000e+02</td>\n",
       "      <td>2.087215e+05</td>\n",
       "      <td>1.073152e+05</td>\n",
       "      <td>1.442584e+05</td>\n",
       "      <td>9.430367e+05</td>\n",
       "      <td>1.111909e+06</td>\n",
       "      <td>0.000000e+00</td>\n",
       "      <td>0.000000e+00</td>\n",
       "    </tr>\n",
       "    <tr>\n",
       "      <th>max</th>\n",
       "      <td>7.430000e+02</td>\n",
       "      <td>9.244552e+07</td>\n",
       "      <td>5.958504e+07</td>\n",
       "      <td>4.958504e+07</td>\n",
       "      <td>3.560159e+08</td>\n",
       "      <td>3.561793e+08</td>\n",
       "      <td>1.000000e+00</td>\n",
       "      <td>1.000000e+00</td>\n",
       "    </tr>\n",
       "  </tbody>\n",
       "</table>\n",
       "</div>"
      ],
      "text/plain": [
       "               step        amount  oldbalanceOrg  newbalanceOrig  \\\n",
       "count  6.362620e+06  6.362620e+06   6.362620e+06    6.362620e+06   \n",
       "mean   2.433972e+02  1.798619e+05   8.338831e+05    8.551137e+05   \n",
       "std    1.423320e+02  6.038582e+05   2.888243e+06    2.924049e+06   \n",
       "min    1.000000e+00  0.000000e+00   0.000000e+00    0.000000e+00   \n",
       "25%    1.560000e+02  1.338957e+04   0.000000e+00    0.000000e+00   \n",
       "50%    2.390000e+02  7.487194e+04   1.420800e+04    0.000000e+00   \n",
       "75%    3.350000e+02  2.087215e+05   1.073152e+05    1.442584e+05   \n",
       "max    7.430000e+02  9.244552e+07   5.958504e+07    4.958504e+07   \n",
       "\n",
       "       oldbalanceDest  newbalanceDest       isFraud  isFlaggedFraud  \n",
       "count    6.362620e+06    6.362620e+06  6.362620e+06    6.362620e+06  \n",
       "mean     1.100702e+06    1.224996e+06  1.290820e-03    2.514687e-06  \n",
       "std      3.399180e+06    3.674129e+06  3.590480e-02    1.585775e-03  \n",
       "min      0.000000e+00    0.000000e+00  0.000000e+00    0.000000e+00  \n",
       "25%      0.000000e+00    0.000000e+00  0.000000e+00    0.000000e+00  \n",
       "50%      1.327057e+05    2.146614e+05  0.000000e+00    0.000000e+00  \n",
       "75%      9.430367e+05    1.111909e+06  0.000000e+00    0.000000e+00  \n",
       "max      3.560159e+08    3.561793e+08  1.000000e+00    1.000000e+00  "
      ]
     },
     "execution_count": 132,
     "metadata": {},
     "output_type": "execute_result"
    }
   ],
   "source": [
    "df.describe()"
   ]
  },
  {
   "cell_type": "code",
   "execution_count": 133,
   "id": "d59dcdc1",
   "metadata": {},
   "outputs": [
    {
     "data": {
      "text/html": [
       "<div>\n",
       "<style scoped>\n",
       "    .dataframe tbody tr th:only-of-type {\n",
       "        vertical-align: middle;\n",
       "    }\n",
       "\n",
       "    .dataframe tbody tr th {\n",
       "        vertical-align: top;\n",
       "    }\n",
       "\n",
       "    .dataframe thead th {\n",
       "        text-align: right;\n",
       "    }\n",
       "</style>\n",
       "<table border=\"1\" class=\"dataframe\">\n",
       "  <thead>\n",
       "    <tr style=\"text-align: right;\">\n",
       "      <th></th>\n",
       "      <th>step</th>\n",
       "      <th>type</th>\n",
       "      <th>amount</th>\n",
       "      <th>nameOrig</th>\n",
       "      <th>oldbalanceOrg</th>\n",
       "      <th>newbalanceOrig</th>\n",
       "      <th>nameDest</th>\n",
       "      <th>oldbalanceDest</th>\n",
       "      <th>newbalanceDest</th>\n",
       "      <th>isFraud</th>\n",
       "      <th>isFlaggedFraud</th>\n",
       "    </tr>\n",
       "  </thead>\n",
       "  <tbody>\n",
       "    <tr>\n",
       "      <th>0</th>\n",
       "      <td>1</td>\n",
       "      <td>PAYMENT</td>\n",
       "      <td>9839.64</td>\n",
       "      <td>C1231006815</td>\n",
       "      <td>170136.0</td>\n",
       "      <td>160296.36</td>\n",
       "      <td>M1979787155</td>\n",
       "      <td>0.0</td>\n",
       "      <td>0.0</td>\n",
       "      <td>0</td>\n",
       "      <td>0</td>\n",
       "    </tr>\n",
       "    <tr>\n",
       "      <th>1</th>\n",
       "      <td>1</td>\n",
       "      <td>PAYMENT</td>\n",
       "      <td>1864.28</td>\n",
       "      <td>C1666544295</td>\n",
       "      <td>21249.0</td>\n",
       "      <td>19384.72</td>\n",
       "      <td>M2044282225</td>\n",
       "      <td>0.0</td>\n",
       "      <td>0.0</td>\n",
       "      <td>0</td>\n",
       "      <td>0</td>\n",
       "    </tr>\n",
       "    <tr>\n",
       "      <th>2</th>\n",
       "      <td>1</td>\n",
       "      <td>TRANSFER</td>\n",
       "      <td>181.00</td>\n",
       "      <td>C1305486145</td>\n",
       "      <td>181.0</td>\n",
       "      <td>0.00</td>\n",
       "      <td>C553264065</td>\n",
       "      <td>0.0</td>\n",
       "      <td>0.0</td>\n",
       "      <td>1</td>\n",
       "      <td>0</td>\n",
       "    </tr>\n",
       "    <tr>\n",
       "      <th>3</th>\n",
       "      <td>1</td>\n",
       "      <td>CASH_OUT</td>\n",
       "      <td>181.00</td>\n",
       "      <td>C840083671</td>\n",
       "      <td>181.0</td>\n",
       "      <td>0.00</td>\n",
       "      <td>C38997010</td>\n",
       "      <td>21182.0</td>\n",
       "      <td>0.0</td>\n",
       "      <td>1</td>\n",
       "      <td>0</td>\n",
       "    </tr>\n",
       "    <tr>\n",
       "      <th>4</th>\n",
       "      <td>1</td>\n",
       "      <td>PAYMENT</td>\n",
       "      <td>11668.14</td>\n",
       "      <td>C2048537720</td>\n",
       "      <td>41554.0</td>\n",
       "      <td>29885.86</td>\n",
       "      <td>M1230701703</td>\n",
       "      <td>0.0</td>\n",
       "      <td>0.0</td>\n",
       "      <td>0</td>\n",
       "      <td>0</td>\n",
       "    </tr>\n",
       "  </tbody>\n",
       "</table>\n",
       "</div>"
      ],
      "text/plain": [
       "   step      type    amount     nameOrig  oldbalanceOrg  newbalanceOrig  \\\n",
       "0     1   PAYMENT   9839.64  C1231006815       170136.0       160296.36   \n",
       "1     1   PAYMENT   1864.28  C1666544295        21249.0        19384.72   \n",
       "2     1  TRANSFER    181.00  C1305486145          181.0            0.00   \n",
       "3     1  CASH_OUT    181.00   C840083671          181.0            0.00   \n",
       "4     1   PAYMENT  11668.14  C2048537720        41554.0        29885.86   \n",
       "\n",
       "      nameDest  oldbalanceDest  newbalanceDest  isFraud  isFlaggedFraud  \n",
       "0  M1979787155             0.0             0.0        0               0  \n",
       "1  M2044282225             0.0             0.0        0               0  \n",
       "2   C553264065             0.0             0.0        1               0  \n",
       "3    C38997010         21182.0             0.0        1               0  \n",
       "4  M1230701703             0.0             0.0        0               0  "
      ]
     },
     "execution_count": 133,
     "metadata": {},
     "output_type": "execute_result"
    }
   ],
   "source": [
    "df.head()"
   ]
  },
  {
   "cell_type": "code",
   "execution_count": 8,
   "id": "9da352a1",
   "metadata": {},
   "outputs": [
    {
     "data": {
      "text/plain": [
       "0    6354407\n",
       "1       8213\n",
       "Name: isFraud, dtype: int64"
      ]
     },
     "execution_count": 8,
     "metadata": {},
     "output_type": "execute_result"
    }
   ],
   "source": [
    "df.isFraud.value_counts()"
   ]
  },
  {
   "cell_type": "code",
   "execution_count": 9,
   "id": "430ce4be",
   "metadata": {},
   "outputs": [
    {
     "data": {
      "text/plain": [
       "0    6362604\n",
       "1         16\n",
       "Name: isFlaggedFraud, dtype: int64"
      ]
     },
     "execution_count": 9,
     "metadata": {},
     "output_type": "execute_result"
    }
   ],
   "source": [
    "df.isFlaggedFraud.value_counts()"
   ]
  },
  {
   "cell_type": "code",
   "execution_count": 10,
   "id": "5b410344",
   "metadata": {},
   "outputs": [
    {
     "data": {
      "text/plain": [
       "array(['PAYMENT', 'TRANSFER', 'CASH_OUT', 'DEBIT', 'CASH_IN'],\n",
       "      dtype=object)"
      ]
     },
     "execution_count": 10,
     "metadata": {},
     "output_type": "execute_result"
    }
   ],
   "source": [
    "df['type'].unique()"
   ]
  },
  {
   "cell_type": "markdown",
   "id": "8e2f00fd",
   "metadata": {},
   "source": [
    "## Cleaning of data"
   ]
  },
  {
   "cell_type": "markdown",
   "id": "fd6ce189",
   "metadata": {},
   "source": [
    "**Replace type column by Number encoding**"
   ]
  },
  {
   "cell_type": "code",
   "execution_count": 11,
   "id": "880ba88e",
   "metadata": {},
   "outputs": [],
   "source": [
    "df.replace({'PAYMENT':1, 'TRANSFER':2, 'CASH_OUT':3, 'DEBIT':4, 'CASH_IN':5}, inplace=True)"
   ]
  },
  {
   "cell_type": "code",
   "execution_count": 12,
   "id": "302bc3ac",
   "metadata": {},
   "outputs": [
    {
     "data": {
      "text/html": [
       "<div>\n",
       "<style scoped>\n",
       "    .dataframe tbody tr th:only-of-type {\n",
       "        vertical-align: middle;\n",
       "    }\n",
       "\n",
       "    .dataframe tbody tr th {\n",
       "        vertical-align: top;\n",
       "    }\n",
       "\n",
       "    .dataframe thead th {\n",
       "        text-align: right;\n",
       "    }\n",
       "</style>\n",
       "<table border=\"1\" class=\"dataframe\">\n",
       "  <thead>\n",
       "    <tr style=\"text-align: right;\">\n",
       "      <th></th>\n",
       "      <th>step</th>\n",
       "      <th>type</th>\n",
       "      <th>amount</th>\n",
       "      <th>nameOrig</th>\n",
       "      <th>oldbalanceOrg</th>\n",
       "      <th>newbalanceOrig</th>\n",
       "      <th>nameDest</th>\n",
       "      <th>oldbalanceDest</th>\n",
       "      <th>newbalanceDest</th>\n",
       "      <th>isFraud</th>\n",
       "      <th>isFlaggedFraud</th>\n",
       "    </tr>\n",
       "  </thead>\n",
       "  <tbody>\n",
       "    <tr>\n",
       "      <th>0</th>\n",
       "      <td>1</td>\n",
       "      <td>1</td>\n",
       "      <td>9839.64</td>\n",
       "      <td>C1231006815</td>\n",
       "      <td>170136.0</td>\n",
       "      <td>160296.36</td>\n",
       "      <td>M1979787155</td>\n",
       "      <td>0.0</td>\n",
       "      <td>0.0</td>\n",
       "      <td>0</td>\n",
       "      <td>0</td>\n",
       "    </tr>\n",
       "    <tr>\n",
       "      <th>1</th>\n",
       "      <td>1</td>\n",
       "      <td>1</td>\n",
       "      <td>1864.28</td>\n",
       "      <td>C1666544295</td>\n",
       "      <td>21249.0</td>\n",
       "      <td>19384.72</td>\n",
       "      <td>M2044282225</td>\n",
       "      <td>0.0</td>\n",
       "      <td>0.0</td>\n",
       "      <td>0</td>\n",
       "      <td>0</td>\n",
       "    </tr>\n",
       "    <tr>\n",
       "      <th>2</th>\n",
       "      <td>1</td>\n",
       "      <td>2</td>\n",
       "      <td>181.00</td>\n",
       "      <td>C1305486145</td>\n",
       "      <td>181.0</td>\n",
       "      <td>0.00</td>\n",
       "      <td>C553264065</td>\n",
       "      <td>0.0</td>\n",
       "      <td>0.0</td>\n",
       "      <td>1</td>\n",
       "      <td>0</td>\n",
       "    </tr>\n",
       "    <tr>\n",
       "      <th>3</th>\n",
       "      <td>1</td>\n",
       "      <td>3</td>\n",
       "      <td>181.00</td>\n",
       "      <td>C840083671</td>\n",
       "      <td>181.0</td>\n",
       "      <td>0.00</td>\n",
       "      <td>C38997010</td>\n",
       "      <td>21182.0</td>\n",
       "      <td>0.0</td>\n",
       "      <td>1</td>\n",
       "      <td>0</td>\n",
       "    </tr>\n",
       "    <tr>\n",
       "      <th>4</th>\n",
       "      <td>1</td>\n",
       "      <td>1</td>\n",
       "      <td>11668.14</td>\n",
       "      <td>C2048537720</td>\n",
       "      <td>41554.0</td>\n",
       "      <td>29885.86</td>\n",
       "      <td>M1230701703</td>\n",
       "      <td>0.0</td>\n",
       "      <td>0.0</td>\n",
       "      <td>0</td>\n",
       "      <td>0</td>\n",
       "    </tr>\n",
       "  </tbody>\n",
       "</table>\n",
       "</div>"
      ],
      "text/plain": [
       "   step  type    amount     nameOrig  oldbalanceOrg  newbalanceOrig  \\\n",
       "0     1     1   9839.64  C1231006815       170136.0       160296.36   \n",
       "1     1     1   1864.28  C1666544295        21249.0        19384.72   \n",
       "2     1     2    181.00  C1305486145          181.0            0.00   \n",
       "3     1     3    181.00   C840083671          181.0            0.00   \n",
       "4     1     1  11668.14  C2048537720        41554.0        29885.86   \n",
       "\n",
       "      nameDest  oldbalanceDest  newbalanceDest  isFraud  isFlaggedFraud  \n",
       "0  M1979787155             0.0             0.0        0               0  \n",
       "1  M2044282225             0.0             0.0        0               0  \n",
       "2   C553264065             0.0             0.0        1               0  \n",
       "3    C38997010         21182.0             0.0        1               0  \n",
       "4  M1230701703             0.0             0.0        0               0  "
      ]
     },
     "execution_count": 12,
     "metadata": {},
     "output_type": "execute_result"
    }
   ],
   "source": [
    "df.head()"
   ]
  },
  {
   "cell_type": "code",
   "execution_count": 13,
   "id": "7119b343",
   "metadata": {},
   "outputs": [],
   "source": [
    "df['nameOrig'] = df['nameOrig'].str.replace(r'\\D', '').astype(int)"
   ]
  },
  {
   "cell_type": "code",
   "execution_count": 14,
   "id": "28f600fa",
   "metadata": {},
   "outputs": [
    {
     "data": {
      "text/html": [
       "<div>\n",
       "<style scoped>\n",
       "    .dataframe tbody tr th:only-of-type {\n",
       "        vertical-align: middle;\n",
       "    }\n",
       "\n",
       "    .dataframe tbody tr th {\n",
       "        vertical-align: top;\n",
       "    }\n",
       "\n",
       "    .dataframe thead th {\n",
       "        text-align: right;\n",
       "    }\n",
       "</style>\n",
       "<table border=\"1\" class=\"dataframe\">\n",
       "  <thead>\n",
       "    <tr style=\"text-align: right;\">\n",
       "      <th></th>\n",
       "      <th>step</th>\n",
       "      <th>type</th>\n",
       "      <th>amount</th>\n",
       "      <th>nameOrig</th>\n",
       "      <th>oldbalanceOrg</th>\n",
       "      <th>newbalanceOrig</th>\n",
       "      <th>nameDest</th>\n",
       "      <th>oldbalanceDest</th>\n",
       "      <th>newbalanceDest</th>\n",
       "      <th>isFraud</th>\n",
       "      <th>isFlaggedFraud</th>\n",
       "    </tr>\n",
       "  </thead>\n",
       "  <tbody>\n",
       "    <tr>\n",
       "      <th>0</th>\n",
       "      <td>1</td>\n",
       "      <td>1</td>\n",
       "      <td>9839.64</td>\n",
       "      <td>1231006815</td>\n",
       "      <td>170136.0</td>\n",
       "      <td>160296.36</td>\n",
       "      <td>M1979787155</td>\n",
       "      <td>0.0</td>\n",
       "      <td>0.0</td>\n",
       "      <td>0</td>\n",
       "      <td>0</td>\n",
       "    </tr>\n",
       "    <tr>\n",
       "      <th>1</th>\n",
       "      <td>1</td>\n",
       "      <td>1</td>\n",
       "      <td>1864.28</td>\n",
       "      <td>1666544295</td>\n",
       "      <td>21249.0</td>\n",
       "      <td>19384.72</td>\n",
       "      <td>M2044282225</td>\n",
       "      <td>0.0</td>\n",
       "      <td>0.0</td>\n",
       "      <td>0</td>\n",
       "      <td>0</td>\n",
       "    </tr>\n",
       "    <tr>\n",
       "      <th>2</th>\n",
       "      <td>1</td>\n",
       "      <td>2</td>\n",
       "      <td>181.00</td>\n",
       "      <td>1305486145</td>\n",
       "      <td>181.0</td>\n",
       "      <td>0.00</td>\n",
       "      <td>C553264065</td>\n",
       "      <td>0.0</td>\n",
       "      <td>0.0</td>\n",
       "      <td>1</td>\n",
       "      <td>0</td>\n",
       "    </tr>\n",
       "    <tr>\n",
       "      <th>3</th>\n",
       "      <td>1</td>\n",
       "      <td>3</td>\n",
       "      <td>181.00</td>\n",
       "      <td>840083671</td>\n",
       "      <td>181.0</td>\n",
       "      <td>0.00</td>\n",
       "      <td>C38997010</td>\n",
       "      <td>21182.0</td>\n",
       "      <td>0.0</td>\n",
       "      <td>1</td>\n",
       "      <td>0</td>\n",
       "    </tr>\n",
       "    <tr>\n",
       "      <th>4</th>\n",
       "      <td>1</td>\n",
       "      <td>1</td>\n",
       "      <td>11668.14</td>\n",
       "      <td>2048537720</td>\n",
       "      <td>41554.0</td>\n",
       "      <td>29885.86</td>\n",
       "      <td>M1230701703</td>\n",
       "      <td>0.0</td>\n",
       "      <td>0.0</td>\n",
       "      <td>0</td>\n",
       "      <td>0</td>\n",
       "    </tr>\n",
       "  </tbody>\n",
       "</table>\n",
       "</div>"
      ],
      "text/plain": [
       "   step  type    amount    nameOrig  oldbalanceOrg  newbalanceOrig  \\\n",
       "0     1     1   9839.64  1231006815       170136.0       160296.36   \n",
       "1     1     1   1864.28  1666544295        21249.0        19384.72   \n",
       "2     1     2    181.00  1305486145          181.0            0.00   \n",
       "3     1     3    181.00   840083671          181.0            0.00   \n",
       "4     1     1  11668.14  2048537720        41554.0        29885.86   \n",
       "\n",
       "      nameDest  oldbalanceDest  newbalanceDest  isFraud  isFlaggedFraud  \n",
       "0  M1979787155             0.0             0.0        0               0  \n",
       "1  M2044282225             0.0             0.0        0               0  \n",
       "2   C553264065             0.0             0.0        1               0  \n",
       "3    C38997010         21182.0             0.0        1               0  \n",
       "4  M1230701703             0.0             0.0        0               0  "
      ]
     },
     "execution_count": 14,
     "metadata": {},
     "output_type": "execute_result"
    }
   ],
   "source": [
    "df.head()"
   ]
  },
  {
   "cell_type": "code",
   "execution_count": 15,
   "id": "8a71c98b",
   "metadata": {},
   "outputs": [
    {
     "name": "stdout",
     "output_type": "stream",
     "text": [
      "<class 'pandas.core.frame.DataFrame'>\n",
      "RangeIndex: 6362620 entries, 0 to 6362619\n",
      "Data columns (total 11 columns):\n",
      " #   Column          Dtype  \n",
      "---  ------          -----  \n",
      " 0   step            int64  \n",
      " 1   type            int64  \n",
      " 2   amount          float64\n",
      " 3   nameOrig        int32  \n",
      " 4   oldbalanceOrg   float64\n",
      " 5   newbalanceOrig  float64\n",
      " 6   nameDest        object \n",
      " 7   oldbalanceDest  float64\n",
      " 8   newbalanceDest  float64\n",
      " 9   isFraud         int64  \n",
      " 10  isFlaggedFraud  int64  \n",
      "dtypes: float64(5), int32(1), int64(4), object(1)\n",
      "memory usage: 509.7+ MB\n"
     ]
    }
   ],
   "source": [
    "df.info()"
   ]
  },
  {
   "cell_type": "code",
   "execution_count": 16,
   "id": "527d55cc",
   "metadata": {},
   "outputs": [],
   "source": [
    "df['nameDest'] = df['nameDest'].str.replace(r'\\D', '').astype(int)"
   ]
  },
  {
   "cell_type": "code",
   "execution_count": 17,
   "id": "368a3a5d",
   "metadata": {},
   "outputs": [
    {
     "name": "stdout",
     "output_type": "stream",
     "text": [
      "<class 'pandas.core.frame.DataFrame'>\n",
      "RangeIndex: 6362620 entries, 0 to 6362619\n",
      "Data columns (total 11 columns):\n",
      " #   Column          Dtype  \n",
      "---  ------          -----  \n",
      " 0   step            int64  \n",
      " 1   type            int64  \n",
      " 2   amount          float64\n",
      " 3   nameOrig        int32  \n",
      " 4   oldbalanceOrg   float64\n",
      " 5   newbalanceOrig  float64\n",
      " 6   nameDest        int32  \n",
      " 7   oldbalanceDest  float64\n",
      " 8   newbalanceDest  float64\n",
      " 9   isFraud         int64  \n",
      " 10  isFlaggedFraud  int64  \n",
      "dtypes: float64(5), int32(2), int64(4)\n",
      "memory usage: 485.4 MB\n"
     ]
    }
   ],
   "source": [
    "df.info()"
   ]
  },
  {
   "cell_type": "markdown",
   "id": "2537f28f",
   "metadata": {},
   "source": [
    "**As we can see from above info that All the given data has been cleaned so we use this for further implementaion of ML models** "
   ]
  },
  {
   "cell_type": "code",
   "execution_count": 18,
   "id": "9ec2a3b8",
   "metadata": {},
   "outputs": [],
   "source": [
    "df['isFlaggedFraud'] = np.where(df['isFlaggedFraud']>200,1,0)"
   ]
  },
  {
   "cell_type": "code",
   "execution_count": 19,
   "id": "929c08fa",
   "metadata": {},
   "outputs": [
    {
     "data": {
      "text/html": [
       "<div>\n",
       "<style scoped>\n",
       "    .dataframe tbody tr th:only-of-type {\n",
       "        vertical-align: middle;\n",
       "    }\n",
       "\n",
       "    .dataframe tbody tr th {\n",
       "        vertical-align: top;\n",
       "    }\n",
       "\n",
       "    .dataframe thead th {\n",
       "        text-align: right;\n",
       "    }\n",
       "</style>\n",
       "<table border=\"1\" class=\"dataframe\">\n",
       "  <thead>\n",
       "    <tr style=\"text-align: right;\">\n",
       "      <th></th>\n",
       "      <th>step</th>\n",
       "      <th>type</th>\n",
       "      <th>amount</th>\n",
       "      <th>nameOrig</th>\n",
       "      <th>oldbalanceOrg</th>\n",
       "      <th>newbalanceOrig</th>\n",
       "      <th>nameDest</th>\n",
       "      <th>oldbalanceDest</th>\n",
       "      <th>newbalanceDest</th>\n",
       "      <th>isFraud</th>\n",
       "      <th>isFlaggedFraud</th>\n",
       "    </tr>\n",
       "  </thead>\n",
       "  <tbody>\n",
       "  </tbody>\n",
       "</table>\n",
       "</div>"
      ],
      "text/plain": [
       "Empty DataFrame\n",
       "Columns: [step, type, amount, nameOrig, oldbalanceOrg, newbalanceOrig, nameDest, oldbalanceDest, newbalanceDest, isFraud, isFlaggedFraud]\n",
       "Index: []"
      ]
     },
     "execution_count": 19,
     "metadata": {},
     "output_type": "execute_result"
    }
   ],
   "source": [
    "df[df['isFlaggedFraud']==1]"
   ]
  },
  {
   "cell_type": "markdown",
   "id": "a0c79c1d",
   "metadata": {},
   "source": [
    "**Heat Map**"
   ]
  },
  {
   "cell_type": "code",
   "execution_count": 44,
   "id": "0023a72b",
   "metadata": {},
   "outputs": [
    {
     "data": {
      "text/plain": [
       "<AxesSubplot:>"
      ]
     },
     "execution_count": 44,
     "metadata": {},
     "output_type": "execute_result"
    },
    {
     "data": {
      "image/png": "[encoded data removed]",
      "text/plain": [
       "<Figure size 864x576 with 2 Axes>"
      ]
     },
     "metadata": {
      "needs_background": "light"
     },
     "output_type": "display_data"
    }
   ],
   "source": [
    "plt.figure(figsize=(12,8))\n",
    "sns.heatmap(df.corr(),annot=True,cmap='viridis')"
   ]
  },
  {
   "cell_type": "code",
   "execution_count": 46,
   "id": "4ff3e5c0",
   "metadata": {},
   "outputs": [
    {
     "data": {
      "text/plain": [
       "step              0.031578\n",
       "type             -0.004463\n",
       "amount            0.076688\n",
       "nameOrig          0.000470\n",
       "oldbalanceOrg     0.010154\n",
       "newbalanceOrig   -0.008148\n",
       "nameDest         -0.000141\n",
       "oldbalanceDest   -0.005885\n",
       "newbalanceDest    0.000535\n",
       "isFraud           1.000000\n",
       "isFlaggedFraud         NaN\n",
       "Name: isFraud, dtype: float64"
      ]
     },
     "execution_count": 46,
     "metadata": {},
     "output_type": "execute_result"
    }
   ],
   "source": [
    "df.corr()['isFraud']"
   ]
  },
  {
   "cell_type": "markdown",
   "id": "197da43e",
   "metadata": {},
   "source": [
    "**Here, we can drop one of the two variable which are highly correlated**"
   ]
  },
  {
   "cell_type": "code",
   "execution_count": 134,
   "id": "d29a9ea5",
   "metadata": {},
   "outputs": [],
   "source": [
    "df.drop(['newbalanceOrig','oldbalanceDest'],axis=1,inplace=True)"
   ]
  },
  {
   "cell_type": "code",
   "execution_count": null,
   "id": "533e665e",
   "metadata": {},
   "outputs": [],
   "source": []
  },
  {
   "cell_type": "markdown",
   "id": "99715ae4",
   "metadata": {},
   "source": [
    "**Defining input features and Target**"
   ]
  },
  {
   "cell_type": "code",
   "execution_count": 135,
   "id": "f8b4bd36",
   "metadata": {},
   "outputs": [],
   "source": [
    "X=df.drop('isFraud',axis=1)\n",
    "y=df.isFraud.values"
   ]
  },
  {
   "cell_type": "code",
   "execution_count": 136,
   "id": "d851701b",
   "metadata": {},
   "outputs": [
    {
     "data": {
      "text/html": [
       "<div>\n",
       "<style scoped>\n",
       "    .dataframe tbody tr th:only-of-type {\n",
       "        vertical-align: middle;\n",
       "    }\n",
       "\n",
       "    .dataframe tbody tr th {\n",
       "        vertical-align: top;\n",
       "    }\n",
       "\n",
       "    .dataframe thead th {\n",
       "        text-align: right;\n",
       "    }\n",
       "</style>\n",
       "<table border=\"1\" class=\"dataframe\">\n",
       "  <thead>\n",
       "    <tr style=\"text-align: right;\">\n",
       "      <th></th>\n",
       "      <th>step</th>\n",
       "      <th>type</th>\n",
       "      <th>amount</th>\n",
       "      <th>nameOrig</th>\n",
       "      <th>oldbalanceOrg</th>\n",
       "      <th>nameDest</th>\n",
       "      <th>newbalanceDest</th>\n",
       "      <th>isFlaggedFraud</th>\n",
       "    </tr>\n",
       "  </thead>\n",
       "  <tbody>\n",
       "    <tr>\n",
       "      <th>0</th>\n",
       "      <td>1</td>\n",
       "      <td>PAYMENT</td>\n",
       "      <td>9839.64</td>\n",
       "      <td>C1231006815</td>\n",
       "      <td>170136.0</td>\n",
       "      <td>M1979787155</td>\n",
       "      <td>0.0</td>\n",
       "      <td>0</td>\n",
       "    </tr>\n",
       "    <tr>\n",
       "      <th>1</th>\n",
       "      <td>1</td>\n",
       "      <td>PAYMENT</td>\n",
       "      <td>1864.28</td>\n",
       "      <td>C1666544295</td>\n",
       "      <td>21249.0</td>\n",
       "      <td>M2044282225</td>\n",
       "      <td>0.0</td>\n",
       "      <td>0</td>\n",
       "    </tr>\n",
       "    <tr>\n",
       "      <th>2</th>\n",
       "      <td>1</td>\n",
       "      <td>TRANSFER</td>\n",
       "      <td>181.00</td>\n",
       "      <td>C1305486145</td>\n",
       "      <td>181.0</td>\n",
       "      <td>C553264065</td>\n",
       "      <td>0.0</td>\n",
       "      <td>0</td>\n",
       "    </tr>\n",
       "    <tr>\n",
       "      <th>3</th>\n",
       "      <td>1</td>\n",
       "      <td>CASH_OUT</td>\n",
       "      <td>181.00</td>\n",
       "      <td>C840083671</td>\n",
       "      <td>181.0</td>\n",
       "      <td>C38997010</td>\n",
       "      <td>0.0</td>\n",
       "      <td>0</td>\n",
       "    </tr>\n",
       "    <tr>\n",
       "      <th>4</th>\n",
       "      <td>1</td>\n",
       "      <td>PAYMENT</td>\n",
       "      <td>11668.14</td>\n",
       "      <td>C2048537720</td>\n",
       "      <td>41554.0</td>\n",
       "      <td>M1230701703</td>\n",
       "      <td>0.0</td>\n",
       "      <td>0</td>\n",
       "    </tr>\n",
       "  </tbody>\n",
       "</table>\n",
       "</div>"
      ],
      "text/plain": [
       "   step      type    amount     nameOrig  oldbalanceOrg     nameDest  \\\n",
       "0     1   PAYMENT   9839.64  C1231006815       170136.0  M1979787155   \n",
       "1     1   PAYMENT   1864.28  C1666544295        21249.0  M2044282225   \n",
       "2     1  TRANSFER    181.00  C1305486145          181.0   C553264065   \n",
       "3     1  CASH_OUT    181.00   C840083671          181.0    C38997010   \n",
       "4     1   PAYMENT  11668.14  C2048537720        41554.0  M1230701703   \n",
       "\n",
       "   newbalanceDest  isFlaggedFraud  \n",
       "0             0.0               0  \n",
       "1             0.0               0  \n",
       "2             0.0               0  \n",
       "3             0.0               0  \n",
       "4             0.0               0  "
      ]
     },
     "execution_count": 136,
     "metadata": {},
     "output_type": "execute_result"
    }
   ],
   "source": [
    "X.head()"
   ]
  },
  {
   "cell_type": "code",
   "execution_count": 137,
   "id": "5bc8d0bb",
   "metadata": {},
   "outputs": [
    {
     "data": {
      "text/plain": [
       "array([0, 0, 1, ..., 1, 1, 1], dtype=int64)"
      ]
     },
     "execution_count": 137,
     "metadata": {},
     "output_type": "execute_result"
    }
   ],
   "source": [
    "y"
   ]
  },
  {
   "cell_type": "code",
   "execution_count": 66,
   "id": "83ea22be",
   "metadata": {},
   "outputs": [
    {
     "data": {
      "text/plain": [
       "<AxesSubplot:>"
      ]
     },
     "execution_count": 66,
     "metadata": {},
     "output_type": "execute_result"
    },
    {
     "data": {
      "image/png": "[encoded data removed]",
      "text/plain": [
       "<Figure size 864x576 with 1 Axes>"
      ]
     },
     "metadata": {
      "needs_background": "light"
     },
     "output_type": "display_data"
    }
   ],
   "source": [
    "## Important feature using ExtraTreeRegressor\n",
    "from sklearn.ensemble import ExtraTreesRegressor\n",
    "selection = ExtraTreesRegressor()\n",
    "selection.fit(X,y)\n",
    "\n",
    "plt.figure(figsize=(12,8))\n",
    "feature_imp = pd.Series(selection.feature_importances_, index = X.columns)\n",
    "feature_imp.nlargest(20).plot(kind='barh')"
   ]
  },
  {
   "cell_type": "markdown",
   "id": "43848613",
   "metadata": {},
   "source": [
    "## Agrregation of columns"
   ]
  },
  {
   "cell_type": "code",
   "execution_count": 138,
   "id": "91ee8011",
   "metadata": {},
   "outputs": [],
   "source": [
    "numeric_cols = ['nameOrig','amount','oldbalanceOrg','newbalanceDest']\n",
    "numeric_df = df[numeric_cols]\n",
    "agg = numeric_df.groupby('nameOrig').agg(['count', 'mean', 'max', 'min', 'sum']).reset_index()\n",
    "agg.columns = ['nameOrig','count_amount','mean_amout','max_amount','min_amount','sum_amount',\n",
    "               'count_oldbalaceOrg','mean_oldbalanceOrg','max_oldbalanceOrg','min_oldbalanceOrg','sum_oldbalanceOrg',\n",
    "               'count_newbalanceDest','mean_newbalanceDest','max_newbalanceDest','min_newbalnceDest','sum_newbalncedest']\n",
    "df = df.merge(agg,how = 'left', on = 'nameOrig')"
   ]
  },
  {
   "cell_type": "code",
   "execution_count": 139,
   "id": "a4f34fdc",
   "metadata": {},
   "outputs": [
    {
     "data": {
      "text/html": [
       "<div>\n",
       "<style scoped>\n",
       "    .dataframe tbody tr th:only-of-type {\n",
       "        vertical-align: middle;\n",
       "    }\n",
       "\n",
       "    .dataframe tbody tr th {\n",
       "        vertical-align: top;\n",
       "    }\n",
       "\n",
       "    .dataframe thead th {\n",
       "        text-align: right;\n",
       "    }\n",
       "</style>\n",
       "<table border=\"1\" class=\"dataframe\">\n",
       "  <thead>\n",
       "    <tr style=\"text-align: right;\">\n",
       "      <th></th>\n",
       "      <th>step</th>\n",
       "      <th>type</th>\n",
       "      <th>amount</th>\n",
       "      <th>nameOrig</th>\n",
       "      <th>oldbalanceOrg</th>\n",
       "      <th>nameDest</th>\n",
       "      <th>newbalanceDest</th>\n",
       "      <th>isFraud</th>\n",
       "      <th>isFlaggedFraud</th>\n",
       "      <th>count_amount</th>\n",
       "      <th>...</th>\n",
       "      <th>count_oldbalaceOrg</th>\n",
       "      <th>mean_oldbalanceOrg</th>\n",
       "      <th>max_oldbalanceOrg</th>\n",
       "      <th>min_oldbalanceOrg</th>\n",
       "      <th>sum_oldbalanceOrg</th>\n",
       "      <th>count_newbalanceDest</th>\n",
       "      <th>mean_newbalanceDest</th>\n",
       "      <th>max_newbalanceDest</th>\n",
       "      <th>min_newbalnceDest</th>\n",
       "      <th>sum_newbalncedest</th>\n",
       "    </tr>\n",
       "  </thead>\n",
       "  <tbody>\n",
       "    <tr>\n",
       "      <th>0</th>\n",
       "      <td>1</td>\n",
       "      <td>PAYMENT</td>\n",
       "      <td>9839.64</td>\n",
       "      <td>C1231006815</td>\n",
       "      <td>170136.0</td>\n",
       "      <td>M1979787155</td>\n",
       "      <td>0.0</td>\n",
       "      <td>0</td>\n",
       "      <td>0</td>\n",
       "      <td>1</td>\n",
       "      <td>...</td>\n",
       "      <td>1</td>\n",
       "      <td>170136.0</td>\n",
       "      <td>170136.0</td>\n",
       "      <td>170136.0</td>\n",
       "      <td>170136.0</td>\n",
       "      <td>1</td>\n",
       "      <td>0.0</td>\n",
       "      <td>0.0</td>\n",
       "      <td>0.0</td>\n",
       "      <td>0.0</td>\n",
       "    </tr>\n",
       "    <tr>\n",
       "      <th>1</th>\n",
       "      <td>1</td>\n",
       "      <td>PAYMENT</td>\n",
       "      <td>1864.28</td>\n",
       "      <td>C1666544295</td>\n",
       "      <td>21249.0</td>\n",
       "      <td>M2044282225</td>\n",
       "      <td>0.0</td>\n",
       "      <td>0</td>\n",
       "      <td>0</td>\n",
       "      <td>1</td>\n",
       "      <td>...</td>\n",
       "      <td>1</td>\n",
       "      <td>21249.0</td>\n",
       "      <td>21249.0</td>\n",
       "      <td>21249.0</td>\n",
       "      <td>21249.0</td>\n",
       "      <td>1</td>\n",
       "      <td>0.0</td>\n",
       "      <td>0.0</td>\n",
       "      <td>0.0</td>\n",
       "      <td>0.0</td>\n",
       "    </tr>\n",
       "    <tr>\n",
       "      <th>2</th>\n",
       "      <td>1</td>\n",
       "      <td>TRANSFER</td>\n",
       "      <td>181.00</td>\n",
       "      <td>C1305486145</td>\n",
       "      <td>181.0</td>\n",
       "      <td>C553264065</td>\n",
       "      <td>0.0</td>\n",
       "      <td>1</td>\n",
       "      <td>0</td>\n",
       "      <td>1</td>\n",
       "      <td>...</td>\n",
       "      <td>1</td>\n",
       "      <td>181.0</td>\n",
       "      <td>181.0</td>\n",
       "      <td>181.0</td>\n",
       "      <td>181.0</td>\n",
       "      <td>1</td>\n",
       "      <td>0.0</td>\n",
       "      <td>0.0</td>\n",
       "      <td>0.0</td>\n",
       "      <td>0.0</td>\n",
       "    </tr>\n",
       "    <tr>\n",
       "      <th>3</th>\n",
       "      <td>1</td>\n",
       "      <td>CASH_OUT</td>\n",
       "      <td>181.00</td>\n",
       "      <td>C840083671</td>\n",
       "      <td>181.0</td>\n",
       "      <td>C38997010</td>\n",
       "      <td>0.0</td>\n",
       "      <td>1</td>\n",
       "      <td>0</td>\n",
       "      <td>1</td>\n",
       "      <td>...</td>\n",
       "      <td>1</td>\n",
       "      <td>181.0</td>\n",
       "      <td>181.0</td>\n",
       "      <td>181.0</td>\n",
       "      <td>181.0</td>\n",
       "      <td>1</td>\n",
       "      <td>0.0</td>\n",
       "      <td>0.0</td>\n",
       "      <td>0.0</td>\n",
       "      <td>0.0</td>\n",
       "    </tr>\n",
       "    <tr>\n",
       "      <th>4</th>\n",
       "      <td>1</td>\n",
       "      <td>PAYMENT</td>\n",
       "      <td>11668.14</td>\n",
       "      <td>C2048537720</td>\n",
       "      <td>41554.0</td>\n",
       "      <td>M1230701703</td>\n",
       "      <td>0.0</td>\n",
       "      <td>0</td>\n",
       "      <td>0</td>\n",
       "      <td>1</td>\n",
       "      <td>...</td>\n",
       "      <td>1</td>\n",
       "      <td>41554.0</td>\n",
       "      <td>41554.0</td>\n",
       "      <td>41554.0</td>\n",
       "      <td>41554.0</td>\n",
       "      <td>1</td>\n",
       "      <td>0.0</td>\n",
       "      <td>0.0</td>\n",
       "      <td>0.0</td>\n",
       "      <td>0.0</td>\n",
       "    </tr>\n",
       "  </tbody>\n",
       "</table>\n",
       "<p>5 rows × 24 columns</p>\n",
       "</div>"
      ],
      "text/plain": [
       "   step      type    amount     nameOrig  oldbalanceOrg     nameDest  \\\n",
       "0     1   PAYMENT   9839.64  C1231006815       170136.0  M1979787155   \n",
       "1     1   PAYMENT   1864.28  C1666544295        21249.0  M2044282225   \n",
       "2     1  TRANSFER    181.00  C1305486145          181.0   C553264065   \n",
       "3     1  CASH_OUT    181.00   C840083671          181.0    C38997010   \n",
       "4     1   PAYMENT  11668.14  C2048537720        41554.0  M1230701703   \n",
       "\n",
       "   newbalanceDest  isFraud  isFlaggedFraud  count_amount  ...  \\\n",
       "0             0.0        0               0             1  ...   \n",
       "1             0.0        0               0             1  ...   \n",
       "2             0.0        1               0             1  ...   \n",
       "3             0.0        1               0             1  ...   \n",
       "4             0.0        0               0             1  ...   \n",
       "\n",
       "   count_oldbalaceOrg  mean_oldbalanceOrg  max_oldbalanceOrg  \\\n",
       "0                   1            170136.0           170136.0   \n",
       "1                   1             21249.0            21249.0   \n",
       "2                   1               181.0              181.0   \n",
       "3                   1               181.0              181.0   \n",
       "4                   1             41554.0            41554.0   \n",
       "\n",
       "   min_oldbalanceOrg  sum_oldbalanceOrg  count_newbalanceDest  \\\n",
       "0           170136.0           170136.0                     1   \n",
       "1            21249.0            21249.0                     1   \n",
       "2              181.0              181.0                     1   \n",
       "3              181.0              181.0                     1   \n",
       "4            41554.0            41554.0                     1   \n",
       "\n",
       "   mean_newbalanceDest  max_newbalanceDest  min_newbalnceDest  \\\n",
       "0                  0.0                 0.0                0.0   \n",
       "1                  0.0                 0.0                0.0   \n",
       "2                  0.0                 0.0                0.0   \n",
       "3                  0.0                 0.0                0.0   \n",
       "4                  0.0                 0.0                0.0   \n",
       "\n",
       "   sum_newbalncedest  \n",
       "0                0.0  \n",
       "1                0.0  \n",
       "2                0.0  \n",
       "3                0.0  \n",
       "4                0.0  \n",
       "\n",
       "[5 rows x 24 columns]"
      ]
     },
     "execution_count": 139,
     "metadata": {},
     "output_type": "execute_result"
    }
   ],
   "source": [
    "df.head()"
   ]
  },
  {
   "cell_type": "code",
   "execution_count": 140,
   "id": "59556503",
   "metadata": {},
   "outputs": [],
   "source": [
    "df.drop(['nameOrig','oldbalanceOrg','nameDest','newbalanceDest'],axis=1,inplace=True)"
   ]
  },
  {
   "cell_type": "code",
   "execution_count": 141,
   "id": "74eb9407",
   "metadata": {},
   "outputs": [],
   "source": [
    "df.drop(['amount'],axis=1,inplace=True)"
   ]
  },
  {
   "cell_type": "code",
   "execution_count": 79,
   "id": "09023f5c",
   "metadata": {},
   "outputs": [
    {
     "data": {
      "text/html": [
       "<div>\n",
       "<style scoped>\n",
       "    .dataframe tbody tr th:only-of-type {\n",
       "        vertical-align: middle;\n",
       "    }\n",
       "\n",
       "    .dataframe tbody tr th {\n",
       "        vertical-align: top;\n",
       "    }\n",
       "\n",
       "    .dataframe thead th {\n",
       "        text-align: right;\n",
       "    }\n",
       "</style>\n",
       "<table border=\"1\" class=\"dataframe\">\n",
       "  <thead>\n",
       "    <tr style=\"text-align: right;\">\n",
       "      <th></th>\n",
       "      <th>step</th>\n",
       "      <th>type</th>\n",
       "      <th>isFraud</th>\n",
       "      <th>isFlaggedFraud</th>\n",
       "      <th>count_amount</th>\n",
       "      <th>mean_amout</th>\n",
       "      <th>max_amount</th>\n",
       "      <th>min_amount</th>\n",
       "      <th>sum_amount</th>\n",
       "      <th>count_oldbalaceOrg</th>\n",
       "      <th>mean_oldbalanceOrg</th>\n",
       "      <th>max_oldbalanceOrg</th>\n",
       "      <th>min_oldbalanceOrg</th>\n",
       "      <th>sum_oldbalanceOrg</th>\n",
       "      <th>count_newbalanceDest</th>\n",
       "      <th>mean_newbalanceDest</th>\n",
       "      <th>max_newbalanceDest</th>\n",
       "      <th>min_newbalnceDest</th>\n",
       "      <th>sum_newbalncedest</th>\n",
       "    </tr>\n",
       "  </thead>\n",
       "  <tbody>\n",
       "    <tr>\n",
       "      <th>0</th>\n",
       "      <td>1</td>\n",
       "      <td>1</td>\n",
       "      <td>0</td>\n",
       "      <td>0</td>\n",
       "      <td>1</td>\n",
       "      <td>9839.64</td>\n",
       "      <td>9839.64</td>\n",
       "      <td>9839.64</td>\n",
       "      <td>9839.64</td>\n",
       "      <td>1</td>\n",
       "      <td>170136.0</td>\n",
       "      <td>170136.0</td>\n",
       "      <td>170136.0</td>\n",
       "      <td>170136.0</td>\n",
       "      <td>1</td>\n",
       "      <td>0.0</td>\n",
       "      <td>0.0</td>\n",
       "      <td>0.0</td>\n",
       "      <td>0.0</td>\n",
       "    </tr>\n",
       "    <tr>\n",
       "      <th>1</th>\n",
       "      <td>1</td>\n",
       "      <td>1</td>\n",
       "      <td>0</td>\n",
       "      <td>0</td>\n",
       "      <td>1</td>\n",
       "      <td>1864.28</td>\n",
       "      <td>1864.28</td>\n",
       "      <td>1864.28</td>\n",
       "      <td>1864.28</td>\n",
       "      <td>1</td>\n",
       "      <td>21249.0</td>\n",
       "      <td>21249.0</td>\n",
       "      <td>21249.0</td>\n",
       "      <td>21249.0</td>\n",
       "      <td>1</td>\n",
       "      <td>0.0</td>\n",
       "      <td>0.0</td>\n",
       "      <td>0.0</td>\n",
       "      <td>0.0</td>\n",
       "    </tr>\n",
       "    <tr>\n",
       "      <th>2</th>\n",
       "      <td>1</td>\n",
       "      <td>2</td>\n",
       "      <td>1</td>\n",
       "      <td>0</td>\n",
       "      <td>1</td>\n",
       "      <td>181.00</td>\n",
       "      <td>181.00</td>\n",
       "      <td>181.00</td>\n",
       "      <td>181.00</td>\n",
       "      <td>1</td>\n",
       "      <td>181.0</td>\n",
       "      <td>181.0</td>\n",
       "      <td>181.0</td>\n",
       "      <td>181.0</td>\n",
       "      <td>1</td>\n",
       "      <td>0.0</td>\n",
       "      <td>0.0</td>\n",
       "      <td>0.0</td>\n",
       "      <td>0.0</td>\n",
       "    </tr>\n",
       "    <tr>\n",
       "      <th>3</th>\n",
       "      <td>1</td>\n",
       "      <td>3</td>\n",
       "      <td>1</td>\n",
       "      <td>0</td>\n",
       "      <td>1</td>\n",
       "      <td>181.00</td>\n",
       "      <td>181.00</td>\n",
       "      <td>181.00</td>\n",
       "      <td>181.00</td>\n",
       "      <td>1</td>\n",
       "      <td>181.0</td>\n",
       "      <td>181.0</td>\n",
       "      <td>181.0</td>\n",
       "      <td>181.0</td>\n",
       "      <td>1</td>\n",
       "      <td>0.0</td>\n",
       "      <td>0.0</td>\n",
       "      <td>0.0</td>\n",
       "      <td>0.0</td>\n",
       "    </tr>\n",
       "    <tr>\n",
       "      <th>4</th>\n",
       "      <td>1</td>\n",
       "      <td>1</td>\n",
       "      <td>0</td>\n",
       "      <td>0</td>\n",
       "      <td>1</td>\n",
       "      <td>11668.14</td>\n",
       "      <td>11668.14</td>\n",
       "      <td>11668.14</td>\n",
       "      <td>11668.14</td>\n",
       "      <td>1</td>\n",
       "      <td>41554.0</td>\n",
       "      <td>41554.0</td>\n",
       "      <td>41554.0</td>\n",
       "      <td>41554.0</td>\n",
       "      <td>1</td>\n",
       "      <td>0.0</td>\n",
       "      <td>0.0</td>\n",
       "      <td>0.0</td>\n",
       "      <td>0.0</td>\n",
       "    </tr>\n",
       "  </tbody>\n",
       "</table>\n",
       "</div>"
      ],
      "text/plain": [
       "   step  type  isFraud  isFlaggedFraud  count_amount  mean_amout  max_amount  \\\n",
       "0     1     1        0               0             1     9839.64     9839.64   \n",
       "1     1     1        0               0             1     1864.28     1864.28   \n",
       "2     1     2        1               0             1      181.00      181.00   \n",
       "3     1     3        1               0             1      181.00      181.00   \n",
       "4     1     1        0               0             1    11668.14    11668.14   \n",
       "\n",
       "   min_amount  sum_amount  count_oldbalaceOrg  mean_oldbalanceOrg  \\\n",
       "0     9839.64     9839.64                   1            170136.0   \n",
       "1     1864.28     1864.28                   1             21249.0   \n",
       "2      181.00      181.00                   1               181.0   \n",
       "3      181.00      181.00                   1               181.0   \n",
       "4    11668.14    11668.14                   1             41554.0   \n",
       "\n",
       "   max_oldbalanceOrg  min_oldbalanceOrg  sum_oldbalanceOrg  \\\n",
       "0           170136.0           170136.0           170136.0   \n",
       "1            21249.0            21249.0            21249.0   \n",
       "2              181.0              181.0              181.0   \n",
       "3              181.0              181.0              181.0   \n",
       "4            41554.0            41554.0            41554.0   \n",
       "\n",
       "   count_newbalanceDest  mean_newbalanceDest  max_newbalanceDest  \\\n",
       "0                     1                  0.0                 0.0   \n",
       "1                     1                  0.0                 0.0   \n",
       "2                     1                  0.0                 0.0   \n",
       "3                     1                  0.0                 0.0   \n",
       "4                     1                  0.0                 0.0   \n",
       "\n",
       "   min_newbalnceDest  sum_newbalncedest  \n",
       "0                0.0                0.0  \n",
       "1                0.0                0.0  \n",
       "2                0.0                0.0  \n",
       "3                0.0                0.0  \n",
       "4                0.0                0.0  "
      ]
     },
     "execution_count": 79,
     "metadata": {},
     "output_type": "execute_result"
    }
   ],
   "source": [
    "df.head()"
   ]
  },
  {
   "cell_type": "markdown",
   "id": "de929d88",
   "metadata": {},
   "source": [
    "**Split data into training data and testing data**"
   ]
  },
  {
   "cell_type": "code",
   "execution_count": 80,
   "id": "75135c3c",
   "metadata": {},
   "outputs": [],
   "source": [
    "from sklearn.model_selection import train_test_split\n",
    "X_train, X_test, y_train, y_test = train_test_split(X, y, test_size=0.33, random_state=42)"
   ]
  },
  {
   "cell_type": "code",
   "execution_count": 81,
   "id": "f9820200",
   "metadata": {},
   "outputs": [
    {
     "data": {
      "text/plain": [
       "5547"
      ]
     },
     "execution_count": 81,
     "metadata": {},
     "output_type": "execute_result"
    }
   ],
   "source": [
    "sum(y_train)"
   ]
  },
  {
   "cell_type": "code",
   "execution_count": 82,
   "id": "a8a9b9e9",
   "metadata": {},
   "outputs": [
    {
     "data": {
      "text/plain": [
       "4262955"
      ]
     },
     "execution_count": 82,
     "metadata": {},
     "output_type": "execute_result"
    }
   ],
   "source": [
    "len(y_train)"
   ]
  },
  {
   "cell_type": "code",
   "execution_count": 83,
   "id": "8d14faf6",
   "metadata": {},
   "outputs": [
    {
     "data": {
      "text/plain": [
       "0.0012697263611099866"
      ]
     },
     "execution_count": 83,
     "metadata": {},
     "output_type": "execute_result"
    }
   ],
   "source": [
    "sum(y_test)/len(y_test)"
   ]
  },
  {
   "cell_type": "markdown",
   "id": "b3183d64",
   "metadata": {},
   "source": [
    "## Implementation of machine learning model"
   ]
  },
  {
   "cell_type": "markdown",
   "id": "798abbe0",
   "metadata": {},
   "source": [
    "#Since the problem given to us is a classification problem so we use models which are used in classifications"
   ]
  },
  {
   "cell_type": "markdown",
   "id": "9fe26166",
   "metadata": {},
   "source": [
    "**Random forest classifier**"
   ]
  },
  {
   "cell_type": "code",
   "execution_count": 84,
   "id": "35a4a822",
   "metadata": {},
   "outputs": [],
   "source": [
    "from sklearn.ensemble import RandomForestClassifier"
   ]
  },
  {
   "cell_type": "code",
   "execution_count": 85,
   "id": "89246ebe",
   "metadata": {},
   "outputs": [],
   "source": [
    "rfc = RandomForestClassifier(class_weight={0:0.1,1:0.9},n_jobs=-1)"
   ]
  },
  {
   "cell_type": "code",
   "execution_count": 86,
   "id": "551808f7",
   "metadata": {},
   "outputs": [
    {
     "data": {
      "text/plain": [
       "RandomForestClassifier(class_weight={0: 0.1, 1: 0.9}, n_jobs=-1)"
      ]
     },
     "execution_count": 86,
     "metadata": {},
     "output_type": "execute_result"
    }
   ],
   "source": [
    "rfc.fit(X_train,y_train)"
   ]
  },
  {
   "cell_type": "code",
   "execution_count": 87,
   "id": "a8f39ff2",
   "metadata": {},
   "outputs": [],
   "source": [
    "rcf_preds = rfc.predict(X_test)"
   ]
  },
  {
   "cell_type": "code",
   "execution_count": 88,
   "id": "039a74d1",
   "metadata": {},
   "outputs": [
    {
     "name": "stdout",
     "output_type": "stream",
     "text": [
      "              precision    recall  f1-score   support\n",
      "\n",
      "           0       1.00      1.00      1.00   2096999\n",
      "           1       0.99      0.73      0.84      2666\n",
      "\n",
      "    accuracy                           1.00   2099665\n",
      "   macro avg       0.99      0.86      0.92   2099665\n",
      "weighted avg       1.00      1.00      1.00   2099665\n",
      "\n",
      "-----------------------------------------------------------\n",
      "\n",
      "Confusion metrix\n",
      "\n",
      "[[2096976      23]\n",
      " [    732    1934]]\n"
     ]
    }
   ],
   "source": [
    "from sklearn.metrics import confusion_matrix, classification_report\n",
    "print(classification_report(y_test,rcf_preds))\n",
    "print('-----------------------------------------------------------\\n')\n",
    "print('Confusion metrix\\n')\n",
    "print(confusion_matrix(y_test, rcf_preds))"
   ]
  },
  {
   "cell_type": "code",
   "execution_count": 102,
   "id": "ad3bbe94",
   "metadata": {},
   "outputs": [
    {
     "data": {
      "text/plain": [
       "<AxesSubplot:>"
      ]
     },
     "execution_count": 102,
     "metadata": {},
     "output_type": "execute_result"
    },
    {
     "data": {
      "image/png": "[encoded data removed]",
      "text/plain": [
       "<Figure size 432x288 with 2 Axes>"
      ]
     },
     "metadata": {
      "needs_background": "light"
     },
     "output_type": "display_data"
    }
   ],
   "source": [
    "sns.heatmap(confusion_matrix(y_test, rcf_preds),annot=True)"
   ]
  },
  {
   "cell_type": "markdown",
   "id": "1bf12472",
   "metadata": {},
   "source": [
    "**xgboost classifier**"
   ]
  },
  {
   "cell_type": "code",
   "execution_count": 89,
   "id": "3113f63d",
   "metadata": {},
   "outputs": [],
   "source": [
    "from xgboost import XGBClassifier"
   ]
  },
  {
   "cell_type": "code",
   "execution_count": 90,
   "id": "9d1c7132",
   "metadata": {},
   "outputs": [
    {
     "name": "stdout",
     "output_type": "stream",
     "text": [
      "[10:41:39] WARNING: D:\\bld\\xgboost-split_1645118015404\\work\\src\\learner.cc:1115: Starting in XGBoost 1.3.0, the default evaluation metric used with the objective 'binary:logistic' was changed from 'error' to 'logloss'. Explicitly set eval_metric if you'd like to restore the old behavior.\n"
     ]
    }
   ],
   "source": [
    "model_xgb = XGBClassifier()\n",
    "    \n",
    "model_xgb.fit(X_train, y_train)\n",
    "preds_xgb = model_xgb.predict(X_test)"
   ]
  },
  {
   "cell_type": "code",
   "execution_count": 91,
   "id": "deb92ca5",
   "metadata": {},
   "outputs": [
    {
     "data": {
      "text/plain": [
       "array([0, 0, 0, ..., 0, 0, 0], dtype=int64)"
      ]
     },
     "execution_count": 91,
     "metadata": {},
     "output_type": "execute_result"
    }
   ],
   "source": [
    "preds_xgb "
   ]
  },
  {
   "cell_type": "code",
   "execution_count": 92,
   "id": "c43031ac",
   "metadata": {},
   "outputs": [
    {
     "name": "stdout",
     "output_type": "stream",
     "text": [
      "              precision    recall  f1-score   support\n",
      "\n",
      "           0       1.00      1.00      1.00   2096999\n",
      "           1       0.97      0.77      0.86      2666\n",
      "\n",
      "    accuracy                           1.00   2099665\n",
      "   macro avg       0.98      0.88      0.93   2099665\n",
      "weighted avg       1.00      1.00      1.00   2099665\n",
      "\n",
      "-----------------------------------------------------------\n",
      "\n",
      "Confusion metrix\n",
      "\n",
      "[[2096934      65]\n",
      " [    622    2044]]\n"
     ]
    }
   ],
   "source": [
    "from sklearn.metrics import confusion_matrix, classification_report\n",
    "print(classification_report(y_test,preds_xgb))\n",
    "print('-----------------------------------------------------------\\n')\n",
    "print('Confusion metrix\\n')\n",
    "print(confusion_matrix(y_test, preds_xgb))"
   ]
  },
  {
   "cell_type": "code",
   "execution_count": 97,
   "id": "1b718e0a",
   "metadata": {},
   "outputs": [
    {
     "data": {
      "text/plain": [
       "<AxesSubplot:>"
      ]
     },
     "execution_count": 97,
     "metadata": {},
     "output_type": "execute_result"
    },
    {
     "data": {
      "image/png": "[encoded data removed]",
      "text/plain": [
       "<Figure size 432x288 with 2 Axes>"
      ]
     },
     "metadata": {
      "needs_background": "light"
     },
     "output_type": "display_data"
    }
   ],
   "source": [
    "sns.heatmap(confusion_matrix(y_test, preds_xgb),annot=True)"
   ]
  },
  {
   "cell_type": "code",
   "execution_count": null,
   "id": "d26f0592",
   "metadata": {},
   "outputs": [],
   "source": []
  },
  {
   "cell_type": "markdown",
   "id": "15541b36",
   "metadata": {},
   "source": [
    "**Gradient Boosting Classifier**"
   ]
  },
  {
   "cell_type": "code",
   "execution_count": 98,
   "id": "cb79c4b7",
   "metadata": {},
   "outputs": [],
   "source": [
    "from sklearn.ensemble import GradientBoostingClassifier\n",
    "model_gb = GradientBoostingClassifier()\n",
    "model_gb.fit(X_train,y_train)\n",
    "preds_gb = model_gb.predict(X_test)"
   ]
  },
  {
   "cell_type": "code",
   "execution_count": 100,
   "id": "11ef52a3",
   "metadata": {},
   "outputs": [
    {
     "name": "stdout",
     "output_type": "stream",
     "text": [
      "              precision    recall  f1-score   support\n",
      "\n",
      "           0       1.00      1.00      1.00   2096999\n",
      "           1       0.58      0.05      0.09      2666\n",
      "\n",
      "    accuracy                           1.00   2099665\n",
      "   macro avg       0.79      0.52      0.54   2099665\n",
      "weighted avg       1.00      1.00      1.00   2099665\n",
      "\n",
      "-----------------------------------------------------------\n",
      "\n",
      "Confusion metrix\n",
      "\n",
      "[[2096907      92]\n",
      " [   2540     126]]\n"
     ]
    }
   ],
   "source": [
    "from sklearn.metrics import confusion_matrix, classification_report\n",
    "print(classification_report(y_test,preds_gb))\n",
    "print('-----------------------------------------------------------\\n')\n",
    "print('Confusion metrix\\n')\n",
    "print(confusion_matrix(y_test, preds_gb))"
   ]
  },
  {
   "cell_type": "code",
   "execution_count": 111,
   "id": "24ec4fae",
   "metadata": {},
   "outputs": [
    {
     "data": {
      "text/plain": [
       "<AxesSubplot:>"
      ]
     },
     "execution_count": 111,
     "metadata": {},
     "output_type": "execute_result"
    },
    {
     "data": {
      "image/png": "[encoded data removed]",
      "text/plain": [
       "<Figure size 432x288 with 2 Axes>"
      ]
     },
     "metadata": {
      "needs_background": "light"
     },
     "output_type": "display_data"
    }
   ],
   "source": [
    "sns.heatmap(confusion_matrix(y_test, preds_gb),annot=True)"
   ]
  },
  {
   "cell_type": "markdown",
   "id": "f8f13710",
   "metadata": {},
   "source": [
    "**catboost classifier**"
   ]
  },
  {
   "cell_type": "code",
   "execution_count": 108,
   "id": "39070566",
   "metadata": {},
   "outputs": [],
   "source": [
    "from catboost import CatBoostClassifier\n",
    "model_ctb = CatBoostClassifier(iterations=1000)\n",
    "model_ctb.fit(X_train, y_train, verbose=False)\n",
    "preds_ctb = model_ctb.predict(X_test)"
   ]
  },
  {
   "cell_type": "code",
   "execution_count": 109,
   "id": "6773b95e",
   "metadata": {},
   "outputs": [
    {
     "name": "stdout",
     "output_type": "stream",
     "text": [
      "              precision    recall  f1-score   support\n",
      "\n",
      "           0       1.00      1.00      1.00   2096999\n",
      "           1       0.95      0.82      0.88      2666\n",
      "\n",
      "    accuracy                           1.00   2099665\n",
      "   macro avg       0.98      0.91      0.94   2099665\n",
      "weighted avg       1.00      1.00      1.00   2099665\n",
      "\n",
      "-----------------------------------------------------------\n",
      "\n",
      "Confusion metrix\n",
      "\n",
      "[[2096888     111]\n",
      " [    478    2188]]\n"
     ]
    }
   ],
   "source": [
    "from sklearn.metrics import confusion_matrix, classification_report\n",
    "print(classification_report(y_test,preds_ctb))\n",
    "print('-----------------------------------------------------------\\n')\n",
    "print('Confusion metrix\\n')\n",
    "print(confusion_matrix(y_test, preds_ctb))"
   ]
  },
  {
   "cell_type": "code",
   "execution_count": 110,
   "id": "70982eea",
   "metadata": {},
   "outputs": [
    {
     "data": {
      "text/plain": [
       "<AxesSubplot:>"
      ]
     },
     "execution_count": 110,
     "metadata": {},
     "output_type": "execute_result"
    },
    {
     "data": {
      "image/png": "[encoded data removed]",
      "text/plain": [
       "<Figure size 432x288 with 2 Axes>"
      ]
     },
     "metadata": {
      "needs_background": "light"
     },
     "output_type": "display_data"
    }
   ],
   "source": [
    "sns.heatmap(confusion_matrix(y_test, preds_ctb),annot=True)"
   ]
  },
  {
   "cell_type": "markdown",
   "id": "1afeb504",
   "metadata": {},
   "source": [
    "## Model Staking"
   ]
  },
  {
   "cell_type": "markdown",
   "id": "4b662cf8",
   "metadata": {},
   "source": [
    "**In this we will combine above models by taking mode of the predictions of each row**"
   ]
  },
  {
   "cell_type": "code",
   "execution_count": 121,
   "id": "01316713",
   "metadata": {},
   "outputs": [],
   "source": [
    "preds=pd.DataFrame({'catboost':preds_ctb,'random_forest':rcf_preds,'XGboost':preds_xgb})"
   ]
  },
  {
   "cell_type": "code",
   "execution_count": 123,
   "id": "fae82449",
   "metadata": {},
   "outputs": [
    {
     "name": "stdout",
     "output_type": "stream",
     "text": [
      "<class 'pandas.core.frame.DataFrame'>\n",
      "RangeIndex: 2099665 entries, 0 to 2099664\n",
      "Data columns (total 3 columns):\n",
      " #   Column         Dtype\n",
      "---  ------         -----\n",
      " 0   catboost       int64\n",
      " 1   random_forest  int64\n",
      " 2   XGboost        int64\n",
      "dtypes: int64(3)\n",
      "memory usage: 48.1 MB\n"
     ]
    }
   ],
   "source": [
    "preds.info()"
   ]
  },
  {
   "cell_type": "code",
   "execution_count": 125,
   "id": "2b8dbfb9",
   "metadata": {},
   "outputs": [],
   "source": [
    "final_preds = preds.mode(axis=1)"
   ]
  },
  {
   "cell_type": "code",
   "execution_count": 126,
   "id": "1c6b510d",
   "metadata": {},
   "outputs": [
    {
     "name": "stdout",
     "output_type": "stream",
     "text": [
      "              precision    recall  f1-score   support\n",
      "\n",
      "           0       1.00      1.00      1.00   2096999\n",
      "           1       0.98      0.77      0.86      2666\n",
      "\n",
      "    accuracy                           1.00   2099665\n",
      "   macro avg       0.99      0.88      0.93   2099665\n",
      "weighted avg       1.00      1.00      1.00   2099665\n",
      "\n",
      "-----------------------------------------------------------\n",
      "\n",
      "Confusion metrix\n",
      "\n",
      "[[2096966      33]\n",
      " [    623    2043]]\n"
     ]
    }
   ],
   "source": [
    "from sklearn.metrics import confusion_matrix, classification_report\n",
    "print(classification_report(y_test,final_preds))\n",
    "print('-----------------------------------------------------------\\n')\n",
    "print('Confusion metrix\\n')\n",
    "print(confusion_matrix(y_test, final_preds))"
   ]
  },
  {
   "cell_type": "markdown",
   "id": "9f92a4be",
   "metadata": {},
   "source": [
    "** Above results shows the final accuracy, precision and f1-score**"
   ]
  },
  {
   "cell_type": "code",
   "execution_count": null,
   "id": "e02d2f9d",
   "metadata": {},
   "outputs": [],
   "source": []
  }
 ],
 "metadata": {
  "kernelspec": {
   "display_name": "Python 3 (ipykernel)",
   "language": "python",
   "name": "python3"
  },
  "language_info": {
   "codemirror_mode": {
    "name": "ipython",
    "version": 3
   },
   "file_extension": ".py",
   "mimetype": "text/x-python",
   "name": "python",
   "nbconvert_exporter": "python",
   "pygments_lexer": "ipython3",
   "version": "3.8.12"
  }
 },
 "nbformat": 4,
 "nbformat_minor": 5
}
